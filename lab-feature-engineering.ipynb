{
 "cells": [
  {
   "cell_type": "code",
   "execution_count": 6,
   "id": "18e0c3cc",
   "metadata": {},
   "outputs": [],
   "source": [
    "import numpy as np\n",
    "import pandas as pd\n",
    "\n",
    "\n",
    "# this is not to show warnings\n",
    "\n",
    "import warnings\n",
    "warnings.filterwarnings('ignore')\n",
    "\n",
    "\n",
    "# this it the most common viz library in python\n",
    "\n",
    "import matplotlib.pyplot as plt\n",
    "\n",
    "# this one is the above on steroids\n",
    "\n",
    "\n",
    "import seaborn as sns\n",
    "\n",
    "\n",
    "data = pd.read_csv(r'C:\\\\Users\\User\\Desktop\\iRonhack\\Classes at Iron\\Week 13\\Day 3\\lab-feature-engineering\\project files\\learningset.txt')"
   ]
  },
  {
   "cell_type": "code",
   "execution_count": 7,
   "id": "dd28bfe6",
   "metadata": {
    "scrolled": true
   },
   "outputs": [
    {
     "data": {
      "text/html": [
       "<div>\n",
       "<style scoped>\n",
       "    .dataframe tbody tr th:only-of-type {\n",
       "        vertical-align: middle;\n",
       "    }\n",
       "\n",
       "    .dataframe tbody tr th {\n",
       "        vertical-align: top;\n",
       "    }\n",
       "\n",
       "    .dataframe thead th {\n",
       "        text-align: right;\n",
       "    }\n",
       "</style>\n",
       "<table border=\"1\" class=\"dataframe\">\n",
       "  <thead>\n",
       "    <tr style=\"text-align: right;\">\n",
       "      <th></th>\n",
       "      <th>ODATEDW</th>\n",
       "      <th>OSOURCE</th>\n",
       "      <th>TCODE</th>\n",
       "      <th>STATE</th>\n",
       "      <th>ZIP</th>\n",
       "      <th>MAILCODE</th>\n",
       "      <th>PVASTATE</th>\n",
       "      <th>DOB</th>\n",
       "      <th>NOEXCH</th>\n",
       "      <th>RECINHSE</th>\n",
       "      <th>...</th>\n",
       "      <th>TARGET_D</th>\n",
       "      <th>HPHONE_D</th>\n",
       "      <th>RFA_2R</th>\n",
       "      <th>RFA_2F</th>\n",
       "      <th>RFA_2A</th>\n",
       "      <th>MDMAUD_R</th>\n",
       "      <th>MDMAUD_F</th>\n",
       "      <th>MDMAUD_A</th>\n",
       "      <th>CLUSTER2</th>\n",
       "      <th>GEOCODE2</th>\n",
       "    </tr>\n",
       "  </thead>\n",
       "  <tbody>\n",
       "    <tr>\n",
       "      <th>0</th>\n",
       "      <td>8901</td>\n",
       "      <td>GRI</td>\n",
       "      <td>0</td>\n",
       "      <td>IL</td>\n",
       "      <td>61081</td>\n",
       "      <td></td>\n",
       "      <td></td>\n",
       "      <td>3712</td>\n",
       "      <td>0</td>\n",
       "      <td></td>\n",
       "      <td>...</td>\n",
       "      <td>0.0</td>\n",
       "      <td>0</td>\n",
       "      <td>L</td>\n",
       "      <td>4</td>\n",
       "      <td>E</td>\n",
       "      <td>X</td>\n",
       "      <td>X</td>\n",
       "      <td>X</td>\n",
       "      <td>39.0</td>\n",
       "      <td>C</td>\n",
       "    </tr>\n",
       "    <tr>\n",
       "      <th>1</th>\n",
       "      <td>9401</td>\n",
       "      <td>BOA</td>\n",
       "      <td>1</td>\n",
       "      <td>CA</td>\n",
       "      <td>91326</td>\n",
       "      <td></td>\n",
       "      <td></td>\n",
       "      <td>5202</td>\n",
       "      <td>0</td>\n",
       "      <td></td>\n",
       "      <td>...</td>\n",
       "      <td>0.0</td>\n",
       "      <td>0</td>\n",
       "      <td>L</td>\n",
       "      <td>2</td>\n",
       "      <td>G</td>\n",
       "      <td>X</td>\n",
       "      <td>X</td>\n",
       "      <td>X</td>\n",
       "      <td>1.0</td>\n",
       "      <td>A</td>\n",
       "    </tr>\n",
       "    <tr>\n",
       "      <th>2</th>\n",
       "      <td>9001</td>\n",
       "      <td>AMH</td>\n",
       "      <td>1</td>\n",
       "      <td>NC</td>\n",
       "      <td>27017</td>\n",
       "      <td></td>\n",
       "      <td></td>\n",
       "      <td>0</td>\n",
       "      <td>0</td>\n",
       "      <td></td>\n",
       "      <td>...</td>\n",
       "      <td>0.0</td>\n",
       "      <td>1</td>\n",
       "      <td>L</td>\n",
       "      <td>4</td>\n",
       "      <td>E</td>\n",
       "      <td>X</td>\n",
       "      <td>X</td>\n",
       "      <td>X</td>\n",
       "      <td>60.0</td>\n",
       "      <td>C</td>\n",
       "    </tr>\n",
       "    <tr>\n",
       "      <th>3</th>\n",
       "      <td>8701</td>\n",
       "      <td>BRY</td>\n",
       "      <td>0</td>\n",
       "      <td>CA</td>\n",
       "      <td>95953</td>\n",
       "      <td></td>\n",
       "      <td></td>\n",
       "      <td>2801</td>\n",
       "      <td>0</td>\n",
       "      <td></td>\n",
       "      <td>...</td>\n",
       "      <td>0.0</td>\n",
       "      <td>1</td>\n",
       "      <td>L</td>\n",
       "      <td>4</td>\n",
       "      <td>E</td>\n",
       "      <td>X</td>\n",
       "      <td>X</td>\n",
       "      <td>X</td>\n",
       "      <td>41.0</td>\n",
       "      <td>C</td>\n",
       "    </tr>\n",
       "    <tr>\n",
       "      <th>4</th>\n",
       "      <td>8601</td>\n",
       "      <td></td>\n",
       "      <td>0</td>\n",
       "      <td>FL</td>\n",
       "      <td>33176</td>\n",
       "      <td></td>\n",
       "      <td></td>\n",
       "      <td>2001</td>\n",
       "      <td>0</td>\n",
       "      <td>X</td>\n",
       "      <td>...</td>\n",
       "      <td>0.0</td>\n",
       "      <td>1</td>\n",
       "      <td>L</td>\n",
       "      <td>2</td>\n",
       "      <td>F</td>\n",
       "      <td>X</td>\n",
       "      <td>X</td>\n",
       "      <td>X</td>\n",
       "      <td>26.0</td>\n",
       "      <td>A</td>\n",
       "    </tr>\n",
       "    <tr>\n",
       "      <th>...</th>\n",
       "      <td>...</td>\n",
       "      <td>...</td>\n",
       "      <td>...</td>\n",
       "      <td>...</td>\n",
       "      <td>...</td>\n",
       "      <td>...</td>\n",
       "      <td>...</td>\n",
       "      <td>...</td>\n",
       "      <td>...</td>\n",
       "      <td>...</td>\n",
       "      <td>...</td>\n",
       "      <td>...</td>\n",
       "      <td>...</td>\n",
       "      <td>...</td>\n",
       "      <td>...</td>\n",
       "      <td>...</td>\n",
       "      <td>...</td>\n",
       "      <td>...</td>\n",
       "      <td>...</td>\n",
       "      <td>...</td>\n",
       "      <td>...</td>\n",
       "    </tr>\n",
       "    <tr>\n",
       "      <th>95407</th>\n",
       "      <td>9601</td>\n",
       "      <td>ASE</td>\n",
       "      <td>1</td>\n",
       "      <td>AK</td>\n",
       "      <td>99504</td>\n",
       "      <td></td>\n",
       "      <td></td>\n",
       "      <td>0</td>\n",
       "      <td>0</td>\n",
       "      <td></td>\n",
       "      <td>...</td>\n",
       "      <td>0.0</td>\n",
       "      <td>0</td>\n",
       "      <td>L</td>\n",
       "      <td>1</td>\n",
       "      <td>G</td>\n",
       "      <td>X</td>\n",
       "      <td>X</td>\n",
       "      <td>X</td>\n",
       "      <td>12.0</td>\n",
       "      <td>C</td>\n",
       "    </tr>\n",
       "    <tr>\n",
       "      <th>95408</th>\n",
       "      <td>9601</td>\n",
       "      <td>DCD</td>\n",
       "      <td>1</td>\n",
       "      <td>TX</td>\n",
       "      <td>77379</td>\n",
       "      <td></td>\n",
       "      <td></td>\n",
       "      <td>5001</td>\n",
       "      <td>0</td>\n",
       "      <td></td>\n",
       "      <td>...</td>\n",
       "      <td>0.0</td>\n",
       "      <td>1</td>\n",
       "      <td>L</td>\n",
       "      <td>1</td>\n",
       "      <td>F</td>\n",
       "      <td>X</td>\n",
       "      <td>X</td>\n",
       "      <td>X</td>\n",
       "      <td>2.0</td>\n",
       "      <td>A</td>\n",
       "    </tr>\n",
       "    <tr>\n",
       "      <th>95409</th>\n",
       "      <td>9501</td>\n",
       "      <td>MBC</td>\n",
       "      <td>1</td>\n",
       "      <td>MI</td>\n",
       "      <td>48910</td>\n",
       "      <td></td>\n",
       "      <td></td>\n",
       "      <td>3801</td>\n",
       "      <td>0</td>\n",
       "      <td></td>\n",
       "      <td>...</td>\n",
       "      <td>0.0</td>\n",
       "      <td>1</td>\n",
       "      <td>L</td>\n",
       "      <td>3</td>\n",
       "      <td>E</td>\n",
       "      <td>X</td>\n",
       "      <td>X</td>\n",
       "      <td>X</td>\n",
       "      <td>34.0</td>\n",
       "      <td>B</td>\n",
       "    </tr>\n",
       "    <tr>\n",
       "      <th>95410</th>\n",
       "      <td>8601</td>\n",
       "      <td>PRV</td>\n",
       "      <td>0</td>\n",
       "      <td>CA</td>\n",
       "      <td>91320</td>\n",
       "      <td></td>\n",
       "      <td></td>\n",
       "      <td>4005</td>\n",
       "      <td>0</td>\n",
       "      <td>X</td>\n",
       "      <td>...</td>\n",
       "      <td>18.0</td>\n",
       "      <td>1</td>\n",
       "      <td>L</td>\n",
       "      <td>4</td>\n",
       "      <td>F</td>\n",
       "      <td>X</td>\n",
       "      <td>X</td>\n",
       "      <td>X</td>\n",
       "      <td>11.0</td>\n",
       "      <td>A</td>\n",
       "    </tr>\n",
       "    <tr>\n",
       "      <th>95411</th>\n",
       "      <td>8801</td>\n",
       "      <td>MCC</td>\n",
       "      <td>2</td>\n",
       "      <td>NC</td>\n",
       "      <td>28409</td>\n",
       "      <td></td>\n",
       "      <td></td>\n",
       "      <td>1801</td>\n",
       "      <td>0</td>\n",
       "      <td>X</td>\n",
       "      <td>...</td>\n",
       "      <td>0.0</td>\n",
       "      <td>1</td>\n",
       "      <td>L</td>\n",
       "      <td>1</td>\n",
       "      <td>G</td>\n",
       "      <td>C</td>\n",
       "      <td>1</td>\n",
       "      <td>C</td>\n",
       "      <td>12.0</td>\n",
       "      <td>C</td>\n",
       "    </tr>\n",
       "  </tbody>\n",
       "</table>\n",
       "<p>95412 rows × 481 columns</p>\n",
       "</div>"
      ],
      "text/plain": [
       "       ODATEDW OSOURCE  TCODE STATE    ZIP MAILCODE PVASTATE   DOB NOEXCH  \\\n",
       "0         8901     GRI      0    IL  61081                    3712      0   \n",
       "1         9401     BOA      1    CA  91326                    5202      0   \n",
       "2         9001     AMH      1    NC  27017                       0      0   \n",
       "3         8701     BRY      0    CA  95953                    2801      0   \n",
       "4         8601              0    FL  33176                    2001      0   \n",
       "...        ...     ...    ...   ...    ...      ...      ...   ...    ...   \n",
       "95407     9601     ASE      1    AK  99504                       0      0   \n",
       "95408     9601     DCD      1    TX  77379                    5001      0   \n",
       "95409     9501     MBC      1    MI  48910                    3801      0   \n",
       "95410     8601     PRV      0    CA  91320                    4005      0   \n",
       "95411     8801     MCC      2    NC  28409                    1801      0   \n",
       "\n",
       "      RECINHSE  ... TARGET_D HPHONE_D RFA_2R RFA_2F RFA_2A MDMAUD_R  MDMAUD_F  \\\n",
       "0               ...      0.0        0      L      4      E        X         X   \n",
       "1               ...      0.0        0      L      2      G        X         X   \n",
       "2               ...      0.0        1      L      4      E        X         X   \n",
       "3               ...      0.0        1      L      4      E        X         X   \n",
       "4            X  ...      0.0        1      L      2      F        X         X   \n",
       "...        ...  ...      ...      ...    ...    ...    ...      ...       ...   \n",
       "95407           ...      0.0        0      L      1      G        X         X   \n",
       "95408           ...      0.0        1      L      1      F        X         X   \n",
       "95409           ...      0.0        1      L      3      E        X         X   \n",
       "95410        X  ...     18.0        1      L      4      F        X         X   \n",
       "95411        X  ...      0.0        1      L      1      G        C         1   \n",
       "\n",
       "      MDMAUD_A CLUSTER2 GEOCODE2  \n",
       "0            X     39.0        C  \n",
       "1            X      1.0        A  \n",
       "2            X     60.0        C  \n",
       "3            X     41.0        C  \n",
       "4            X     26.0        A  \n",
       "...        ...      ...      ...  \n",
       "95407        X     12.0        C  \n",
       "95408        X      2.0        A  \n",
       "95409        X     34.0        B  \n",
       "95410        X     11.0        A  \n",
       "95411        C     12.0        C  \n",
       "\n",
       "[95412 rows x 481 columns]"
      ]
     },
     "execution_count": 7,
     "metadata": {},
     "output_type": "execute_result"
    }
   ],
   "source": [
    "data"
   ]
  },
  {
   "cell_type": "markdown",
   "id": "3186d5c7",
   "metadata": {},
   "source": [
    "Instructions\n",
    "Complete the following steps on the categorical columns in the dataset:\n",
    "\n",
    "Check for null values in all the columns"
   ]
  },
  {
   "cell_type": "code",
   "execution_count": 8,
   "id": "f1d2fe48",
   "metadata": {},
   "outputs": [
    {
     "name": "stdout",
     "output_type": "stream",
     "text": [
      "Index(['OSOURCE', 'STATE', 'ZIP', 'MAILCODE', 'PVASTATE', 'NOEXCH', 'RECINHSE',\n",
      "       'RECP3', 'RECPGVG', 'RECSWEEP', 'MDMAUD', 'DOMAIN', 'CLUSTER',\n",
      "       'AGEFLAG', 'HOMEOWNR', 'CHILD03', 'CHILD07', 'CHILD12', 'CHILD18',\n",
      "       'GENDER', 'DATASRCE', 'SOLP3', 'SOLIH', 'MAJOR', 'GEOCODE', 'COLLECT1',\n",
      "       'VETERANS', 'BIBLE', 'CATLG', 'HOMEE', 'PETS', 'CDPLAY', 'STEREO',\n",
      "       'PCOWNERS', 'PHOTO', 'CRAFTS', 'FISHER', 'GARDENIN', 'BOATS', 'WALKER',\n",
      "       'KIDSTUFF', 'CARDS', 'PLATES', 'LIFESRC', 'PEPSTRFL', 'RFA_2', 'RFA_3',\n",
      "       'RFA_4', 'RFA_5', 'RFA_6', 'RFA_7', 'RFA_8', 'RFA_9', 'RFA_10',\n",
      "       'RFA_11', 'RFA_12', 'RFA_13', 'RFA_14', 'RFA_15', 'RFA_16', 'RFA_17',\n",
      "       'RFA_18', 'RFA_19', 'RFA_20', 'RFA_21', 'RFA_22', 'RFA_23', 'RFA_24',\n",
      "       'RFA_2R', 'RFA_2A', 'MDMAUD_R', 'MDMAUD_F', 'MDMAUD_A', 'GEOCODE2'],\n",
      "      dtype='object')\n"
     ]
    }
   ],
   "source": [
    "categorical_columns = data.select_dtypes(include=['object'])\n",
    "\n",
    "\n",
    "print(categorical_columns.columns)"
   ]
  },
  {
   "cell_type": "markdown",
   "id": "64efb86f",
   "metadata": {},
   "source": [
    "Exclude the following variables by looking at the definitions. Create a new empty list called drop_list. We will append this list and then drop all the columns in this list later:\n",
    "\n",
    "OSOURCE - symbol definitions not provided, too many categories\n",
    "ZIP CODE - we are including state already"
   ]
  },
  {
   "cell_type": "code",
   "execution_count": 9,
   "id": "31c5c1bd",
   "metadata": {},
   "outputs": [],
   "source": [
    "drop_list = []\n",
    "\n",
    "drop_list.append('OSOURCE')\n",
    "drop_list.append('ZIP CODE')"
   ]
  },
  {
   "cell_type": "code",
   "execution_count": 10,
   "id": "f0cb1669",
   "metadata": {},
   "outputs": [
    {
     "data": {
      "text/plain": [
       "['OSOURCE', 'ZIP CODE']"
      ]
     },
     "execution_count": 10,
     "metadata": {},
     "output_type": "execute_result"
    }
   ],
   "source": [
    "drop_list"
   ]
  },
  {
   "cell_type": "markdown",
   "id": "300b389a",
   "metadata": {},
   "source": [
    "Identify columns that over 85% missing values\n"
   ]
  },
  {
   "cell_type": "code",
   "execution_count": 11,
   "id": "81a31cf3",
   "metadata": {},
   "outputs": [
    {
     "name": "stdout",
     "output_type": "stream",
     "text": [
      "Series([], dtype: float64)\n"
     ]
    }
   ],
   "source": [
    "null_df = categorical_columns.isnull().sum() / len(categorical_columns)\n",
    "threshold = 0.85\n",
    "columns_above_threshold = null_df[null_df > threshold]\n",
    "print(columns_above_threshold)"
   ]
  },
  {
   "cell_type": "markdown",
   "id": "b244fee4",
   "metadata": {},
   "source": [
    "Remove those columns from the dataframe\n",
    "\n"
   ]
  },
  {
   "cell_type": "markdown",
   "id": "5e7caee3",
   "metadata": {},
   "source": [
    "There are no such columns..."
   ]
  },
  {
   "cell_type": "markdown",
   "id": "d5496196",
   "metadata": {},
   "source": [
    "Reduce the number of categories in the column GENDER. The column should only have either \"M\" for males, \"F\" for females, and \"other\" for all the rest\n",
    "\n",
    "Note that there are a few null values in the column. We will first replace those null values using the code below:\n",
    "print(categorical['GENDER'].value_counts())\n",
    "categorical['GENDER'] = categorical['GENDER'].fillna('F')"
   ]
  },
  {
   "cell_type": "code",
   "execution_count": 12,
   "id": "93f9829e",
   "metadata": {},
   "outputs": [
    {
     "name": "stdout",
     "output_type": "stream",
     "text": [
      "GENDER\n",
      "F    51277\n",
      "M    39094\n",
      "      2957\n",
      "U     1715\n",
      "J      365\n",
      "C        2\n",
      "A        2\n",
      "Name: count, dtype: int64\n"
     ]
    }
   ],
   "source": [
    "print(categorical_columns['GENDER'].value_counts())\n"
   ]
  },
  {
   "cell_type": "code",
   "execution_count": 13,
   "id": "318855dd",
   "metadata": {},
   "outputs": [
    {
     "name": "stdout",
     "output_type": "stream",
     "text": [
      "GENDER\n",
      "F    51277\n",
      "M    39094\n",
      "      2957\n",
      "U     1715\n",
      "J      365\n",
      "C        2\n",
      "A        2\n",
      "Name: count, dtype: int64\n"
     ]
    }
   ],
   "source": [
    "print(categorical_columns['GENDER'].value_counts())\n",
    "categorical_columns['GENDER'] = categorical_columns['GENDER'].fillna('F')"
   ]
  },
  {
   "cell_type": "code",
   "execution_count": 14,
   "id": "41e62944",
   "metadata": {},
   "outputs": [],
   "source": [
    "categorical_columns['GENDER'] = categorical_columns['GENDER'].replace({'M': 'M', 'F': 'F'}).fillna('other')"
   ]
  },
  {
   "cell_type": "code",
   "execution_count": 15,
   "id": "4b197168",
   "metadata": {},
   "outputs": [
    {
     "name": "stdout",
     "output_type": "stream",
     "text": [
      "GENDER\n",
      "F    51277\n",
      "M    39094\n",
      "      2957\n",
      "U     1715\n",
      "J      365\n",
      "C        2\n",
      "A        2\n",
      "Name: count, dtype: int64\n"
     ]
    }
   ],
   "source": [
    "print(categorical_columns['GENDER'].value_counts())"
   ]
  },
  {
   "cell_type": "markdown",
   "id": "9c850aa2",
   "metadata": {},
   "source": [
    "Here we will work on cleaning some of the other columns in the dataset using the techniques that we used before in the lessons.\n",
    "\n",
    "Check for null values in the numerical columns."
   ]
  },
  {
   "cell_type": "code",
   "execution_count": 17,
   "id": "0c3da564",
   "metadata": {},
   "outputs": [
    {
     "name": "stdout",
     "output_type": "stream",
     "text": [
      "Index(['ODATEDW', 'TCODE', 'DOB', 'AGE', 'NUMCHLD', 'INCOME', 'WEALTH1', 'HIT',\n",
      "       'MBCRAFT', 'MBGARDEN',\n",
      "       ...\n",
      "       'FISTDATE', 'NEXTDATE', 'TIMELAG', 'AVGGIFT', 'CONTROLN', 'TARGET_B',\n",
      "       'TARGET_D', 'HPHONE_D', 'RFA_2F', 'CLUSTER2'],\n",
      "      dtype='object', length=407)\n"
     ]
    }
   ],
   "source": [
    "numerical_columns = data.select_dtypes(include=['number'])\n",
    "\n",
    "print(numerical_columns.columns)\n"
   ]
  },
  {
   "cell_type": "code",
   "execution_count": 25,
   "id": "2232a366",
   "metadata": {},
   "outputs": [
    {
     "name": "stdout",
     "output_type": "stream",
     "text": [
      "ODATEDW         0\n",
      "TCODE           0\n",
      "DOB             0\n",
      "AGE         23665\n",
      "NUMCHLD     83026\n",
      "            ...  \n",
      "TARGET_B        0\n",
      "TARGET_D        0\n",
      "HPHONE_D        0\n",
      "RFA_2F          0\n",
      "CLUSTER2      132\n",
      "Length: 407, dtype: int64\n"
     ]
    }
   ],
   "source": [
    "null_values_numerical = numerical_columns.isnull().sum()\n",
    "print(null_values_numerical)"
   ]
  },
  {
   "cell_type": "code",
   "execution_count": 24,
   "id": "bc1f0c02",
   "metadata": {},
   "outputs": [
    {
     "name": "stdout",
     "output_type": "stream",
     "text": [
      "Missing specific columns: ['GEOCODE2']\n"
     ]
    }
   ],
   "source": [
    "specific_columns = ['GEOCODE2', 'WEALTH1', 'ADI', 'DMA', 'MSA']\n",
    "missing_specific_columns = [col for col in specific_columns if col not in numerical_columns.columns]\n",
    "\n",
    "print(\"Missing specific columns:\", missing_specific_columns)"
   ]
  },
  {
   "cell_type": "code",
   "execution_count": null,
   "id": "1be68123",
   "metadata": {},
   "outputs": [],
   "source": [
    "# 'GEOCODE2' is not numerical ?"
   ]
  },
  {
   "cell_type": "code",
   "execution_count": 27,
   "id": "80554357",
   "metadata": {},
   "outputs": [
    {
     "name": "stdout",
     "output_type": "stream",
     "text": [
      "WEALTH1    46.882992\n",
      "ADI         0.138347\n",
      "DMA         0.138347\n",
      "MSA         0.138347\n",
      "dtype: float64\n"
     ]
    }
   ],
   "source": [
    "missing_values_specific = numerical_columns[['WEALTH1', 'ADI', 'DMA', 'MSA']].isnull().sum()\n",
    "percentage_missing_specific = (missing_values_specific / len(numerical_columns)) * 100\n",
    "\n",
    "print(percentage_missing_specific)"
   ]
  },
  {
   "cell_type": "markdown",
   "id": "fb02a99c",
   "metadata": {},
   "source": [
    "Use appropriate methods to clean the columns GEOCODE2, WEALTH1, ADI, DMA,and MSA."
   ]
  },
  {
   "cell_type": "code",
   "execution_count": 44,
   "id": "b6a219f3",
   "metadata": {},
   "outputs": [],
   "source": [
    "numerical_columns.dropna(subset=['WEALTH1', 'ADI', 'DMA', 'MSA'], inplace=True)"
   ]
  },
  {
   "cell_type": "code",
   "execution_count": 45,
   "id": "3f5c73ab",
   "metadata": {},
   "outputs": [
    {
     "name": "stdout",
     "output_type": "stream",
     "text": [
      "WEALTH1    0\n",
      "ADI        0\n",
      "DMA        0\n",
      "MSA        0\n",
      "dtype: int64\n"
     ]
    }
   ],
   "source": [
    "missing_values_specific = numerical_columns[['WEALTH1', 'ADI', 'DMA', 'MSA']].isnull().sum()\n",
    "print(missing_values_specific)"
   ]
  },
  {
   "cell_type": "code",
   "execution_count": 46,
   "id": "0f3bf2b4",
   "metadata": {},
   "outputs": [
    {
     "name": "stdout",
     "output_type": "stream",
     "text": [
      "Unique values in WEALTH1: [9. 1. 4. 2. 6. 0. 5. 8. 3. 7.]\n",
      "Unique values in ADI: [ 13. 281.  67. 127.  91. 251. 391. 269.  83. 107. 291.  57. 329.  55.\n",
      "  73. 159. 201.  75. 203. 105. 111. 173. 351. 109. 197. 279. 645. 361.\n",
      " 113. 131. 199. 187. 129. 441. 209. 235.  39. 335. 577. 439. 455. 383.\n",
      " 249. 263.   0. 427. 185.  15. 245.  51. 175.  59. 119. 233. 273. 325.\n",
      " 371. 377.  89. 181. 342. 421. 219.  65. 283. 339. 417. 299. 271.  87.\n",
      " 451. 315. 157.  71. 363. 367. 275. 403.  77. 448. 217. 221. 165. 393.\n",
      " 207. 277. 319. 353. 247. 241. 307.  69. 323. 213. 381. 179. 389. 331.\n",
      " 337. 457. 301. 359.  17.  53. 321. 327. 257. 413. 469. 303. 205. 412.\n",
      "  63. 405. 373. 133. 211. 229. 243. 227.  61. 425. 253. 313. 423. 433.\n",
      "  85. 215.  93. 115. 409. 445. 459. 177. 415. 449. 379. 237. 355. 255.\n",
      " 437. 419.  19. 195. 467. 305. 435. 621. 295. 473.  11. 429. 183.  21.\n",
      " 231. 462.   9. 431. 151. 317. 471. 117. 613. 465. 627. 293. 625. 121.\n",
      " 375. 385. 591.  33. 603.  25.   3. 443.  29. 297. 123. 265. 135.  95.\n",
      " 149. 153. 285. 140.  35.  43. 141. 287. 357. 651.  31. 261. 601. 139.\n",
      " 145.  47. 161. 345.]\n",
      "Unique values in DMA: [803. 518. 862. 528. 509. 643. 624. 671. 527. 613. 770. 505. 534. 547.\n",
      " 800. 638. 618. 609. 635. 819. 617. 637. 560. 623. 524. 517. 539. 546.\n",
      " 669. 575. 632. 548. 662. 529. 801. 771. 561. 804. 633. 839. 686. 716.\n",
      " 650. 743. 619. 691. 825. 622. 602. 675. 563. 610. 820. 749. 670. 765.\n",
      " 711. 868. 659. 762. 520. 503. 807. 544. 810. 656. 755. 641. 581. 540.\n",
      " 658. 616. 866. 746. 790. 753. 634. 648. 647. 531. 630. 611. 724. 649.\n",
      " 789. 693. 545. 692. 751. 678. 828. 626. 709. 567. 676. 640. 725. 722.\n",
      " 881. 756. 652. 570. 855. 588. 612. 628. 564. 530. 764. 679. 625. 698.\n",
      " 513. 627. 718. 571. 541. 604. 657. 752. 717. 551. 507. 642. 605. 519.\n",
      " 744. 600. 582. 557. 515. 705. 522. 757. 811. 682. 606. 737. 710. 813.\n",
      " 550. 644. 651. 525. 511. 631. 736. 802.   0. 636. 592. 758. 504. 603.\n",
      " 639. 512. 620. 687. 773. 501. 759. 673. 523. 553. 767. 702. 754. 583.\n",
      " 760. 734. 745. 535. 740. 821. 574. 646. 533. 506. 661. 508. 766. 500.\n",
      " 514. 542. 532. 549. 556. 565. 510. 566. 798. 555. 537. 584. 536. 598.\n",
      " 538. 502. 521. 552. 573.]\n",
      "Unique values in MSA: [4480.    0. 9340. 5000. 3960. 3480. 2160. 5960. 5120.  440.  680. 3360.\n",
      " 7040. 3120.  640. 7600. 2680. 5080. 1360. 6640. 1145. 2800. 1520. 7510.\n",
      " 4720. 1920. 1560. 8960.   40. 4520.  520. 9360. 3600. 6780. 5800. 4120.\n",
      " 5160.  760. 5880.  380. 3440. 7320. 5560. 1600. 6120. 3000. 6880. 2020.\n",
      " 7080. 4080. 2580. 4100. 1620. 5360.  600. 4680. 5775. 8720. 7360. 9260.\n",
      " 2920. 7240. 3800. 2710. 8120. 5945. 2320. 3760. 2840.  920.  200.  460.\n",
      "  320. 1400. 6440. 6920. 7400. 5790. 3660. 1000. 2520. 2440. 8520. 3720.\n",
      " 7500. 4400.  840. 2080. 9040. 7485. 8750. 8735. 1150. 7160. 4920.  880.\n",
      " 5920. 6200. 2655. 7720. 7480. 2330. 7680. 5200. 3400. 3605. 2750. 8240.\n",
      " 3080. 3150. 6660. 3980. 2120. 3810. 7840. 5240. 2240. 6690. 8280. 1760.\n",
      " 8780. 4200. 4900. 6580. 4280. 3160. 7640. 1720. 7620. 8800. 2400. 7920.\n",
      " 4040. 7520. 3880. 8440. 3320. 1880. 8560. 3920. 1440. 2720. 7460. 7120.\n",
      " 3840. 6980. 6960. 1660. 1800. 3560. 6015. 1080. 7800. 5345. 2560. 2200.\n",
      " 2180. 6720. 8320. 2700. 2760. 2040. 9200. 1260. 2960. 1960. 3290. 5720.\n",
      "  120. 4940. 1640.  500. 3520. 4890. 6560. 6600. 8840. 6080. 4600. 6820.\n",
      " 2650. 5910. 7880.  220. 1125. 8920. 4880. 3350. 2640. 3060. 2900. 5330.\n",
      " 6340. 8200.  560. 3620. 3285. 3040. 9270. 3710. 3580.  720. 8600. 1740.\n",
      " 2995. 5190. 8640. 6740. 2670. 6895. 4360. 3850. 5170. 1240. 1350. 1020.\n",
      " 8360. 2290.  860. 7490. 3740.  480. 1580. 4420. 2980. 3870. 8140. 9080.\n",
      " 2880. 5280. 6160. 3500. 2620. 3700. 1840. 2030.  870. 5483. 8940. 9160.\n",
      " 5990. 3680.  450. 5523. 1123. 7200. 6520. 6280. 2985. 7760. 2340. 4150.\n",
      " 7000. 1010. 1480. 6240. 1040. 6403. 1280.  160. 5380. 2000. 5600.  743.\n",
      " 5640. 6760. 1303. 2281. 1320. 3240. 8400. 4000. 3283. 2975.  733. 1540.\n",
      " 9320. 3180. 6840. 6323. 1680.  960. 8160. 6800.  875. 6483. 7610.]\n"
     ]
    }
   ],
   "source": [
    "unique_values_wealth1 = numerical_columns['WEALTH1'].unique()\n",
    "unique_values_adi = numerical_columns['ADI'].unique()\n",
    "unique_values_dma = numerical_columns['DMA'].unique()\n",
    "unique_values_msa = numerical_columns['MSA'].unique()\n",
    "\n",
    "\n",
    "print(\"Unique values in WEALTH1:\", unique_values_wealth1)\n",
    "print(\"Unique values in ADI:\", unique_values_adi)\n",
    "print(\"Unique values in DMA:\", unique_values_dma)\n",
    "print(\"Unique values in MSA:\", unique_values_msa)"
   ]
  },
  {
   "cell_type": "code",
   "execution_count": null,
   "id": "e58dbb7f",
   "metadata": {},
   "outputs": [],
   "source": [
    "Use appropriate EDA technique where ever necessary."
   ]
  },
  {
   "cell_type": "code",
   "execution_count": 32,
   "id": "c8ebc307",
   "metadata": {},
   "outputs": [
    {
     "data": {
      "text/plain": [
       "Text(0.5, 1.0, 'Distribution of WEALTH1')"
      ]
     },
     "execution_count": 32,
     "metadata": {},
     "output_type": "execute_result"
    },
    {
     "data": {
      "image/png": "[encoded data removed]",
      "text/plain": [
       "<Figure size 1200x600 with 1 Axes>"
      ]
     },
     "metadata": {},
     "output_type": "display_data"
    }
   ],
   "source": [
    "plt.figure(figsize=(12, 6))\n",
    "plt.subplot(2, 2, 1)\n",
    "plt.hist(numerical_columns['WEALTH1'].dropna(), bins=20, color='skyblue')\n",
    "plt.title('Distribution of WEALTH1')"
   ]
  },
  {
   "cell_type": "code",
   "execution_count": 34,
   "id": "d77613e5",
   "metadata": {},
   "outputs": [
    {
     "data": {
      "text/plain": [
       "Text(0.5, 1.0, 'Distribution of ADI')"
      ]
     },
     "execution_count": 34,
     "metadata": {},
     "output_type": "execute_result"
    },
    {
     "data": {
      "image/png": "[encoded data removed]",
      "text/plain": [
       "<Figure size 640x480 with 1 Axes>"
      ]
     },
     "metadata": {},
     "output_type": "display_data"
    }
   ],
   "source": [
    "plt.subplot(2, 2, 2)\n",
    "plt.hist(numerical_columns['ADI'].dropna(), bins=20, color='lightcoral')\n",
    "plt.title('Distribution of ADI')"
   ]
  }
 ],
 "metadata": {
  "kernelspec": {
   "display_name": "Python 3 (ipykernel)",
   "language": "python",
   "name": "python3"
  },
  "language_info": {
   "codemirror_mode": {
    "name": "ipython",
    "version": 3
   },
   "file_extension": ".py",
   "mimetype": "text/x-python",
   "name": "python",
   "nbconvert_exporter": "python",
   "pygments_lexer": "ipython3",
   "version": "3.11.5"
  }
 },
 "nbformat": 4,
 "nbformat_minor": 5
}
